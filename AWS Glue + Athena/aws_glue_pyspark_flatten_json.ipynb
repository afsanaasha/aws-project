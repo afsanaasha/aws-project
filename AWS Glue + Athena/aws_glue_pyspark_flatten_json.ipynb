{
 "cells": [
  {
   "cell_type": "code",
   "execution_count": 1,
   "id": "ff3ed365",
   "metadata": {},
   "outputs": [
    {
     "name": "stdout",
     "output_type": "stream",
     "text": [
      "Starting Spark application\n"
     ]
    },
    {
     "data": {
      "text/html": [
       "<table>\n",
       "<tr><th>ID</th><th>YARN Application ID</th><th>Kind</th><th>State</th><th>Spark UI</th><th>Driver log</th><th>User</th><th>Current session?</th></tr><tr><td>0</td><td>application_1635705235221_0001</td><td>pyspark</td><td>idle</td><td><a target=\"_blank\" href=\"http://ip-172-32-94-207.ec2.internal:20888/proxy/application_1635705235221_0001/\">Link</a></td><td><a target=\"_blank\" href=\"http://ip-172-32-78-182.ec2.internal:8042/node/containerlogs/container_1635705235221_0001_01_000001/livy\">Link</a></td><td>None</td><td>✔</td></tr></table>"
      ],
      "text/plain": [
       "<IPython.core.display.HTML object>"
      ]
     },
     "metadata": {},
     "output_type": "display_data"
    },
    {
     "data": {
      "application/vnd.jupyter.widget-view+json": {
       "model_id": "",
       "version_major": 2,
       "version_minor": 0
      },
      "text/plain": [
       "FloatProgress(value=0.0, bar_style='info', description='Progress:', layout=Layout(height='25px', width='50%'),…"
      ]
     },
     "metadata": {},
     "output_type": "display_data"
    },
    {
     "name": "stdout",
     "output_type": "stream",
     "text": [
      "SparkSession available as 'spark'.\n"
     ]
    },
    {
     "data": {
      "application/vnd.jupyter.widget-view+json": {
       "model_id": "",
       "version_major": 2,
       "version_minor": 0
      },
      "text/plain": [
       "FloatProgress(value=0.0, bar_style='info', description='Progress:', layout=Layout(height='25px', width='50%'),…"
      ]
     },
     "metadata": {},
     "output_type": "display_data"
    }
   ],
   "source": [
    "import sys\n",
    "from awsglue.transforms import *\n",
    "from awsglue.utils import getResolvedOptions\n",
    "from pyspark.context import SparkContext\n",
    "from awsglue.context import GlueContext\n",
    "from awsglue.job import Job"
   ]
  },
  {
   "cell_type": "code",
   "execution_count": 2,
   "id": "55887fbb",
   "metadata": {},
   "outputs": [
    {
     "data": {
      "application/vnd.jupyter.widget-view+json": {
       "model_id": "",
       "version_major": 2,
       "version_minor": 0
      },
      "text/plain": [
       "FloatProgress(value=0.0, bar_style='info', description='Progress:', layout=Layout(height='25px', width='50%'),…"
      ]
     },
     "metadata": {},
     "output_type": "display_data"
    }
   ],
   "source": [
    "glueContext = GlueContext(SparkContext.getOrCreate())"
   ]
  },
  {
   "cell_type": "code",
   "execution_count": 8,
   "id": "9ce4273f",
   "metadata": {},
   "outputs": [
    {
     "data": {
      "application/vnd.jupyter.widget-view+json": {
       "model_id": "",
       "version_major": 2,
       "version_minor": 0
      },
      "text/plain": [
       "FloatProgress(value=0.0, bar_style='info', description='Progress:', layout=Layout(height='25px', width='50%'),…"
      ]
     },
     "metadata": {},
     "output_type": "display_data"
    }
   ],
   "source": [
    "mags_df = glueContext.create_dynamic_frame.from_catalog(database=\"amazon_review\", table_name=\"magazine_subscriptions_json\")"
   ]
  },
  {
   "cell_type": "code",
   "execution_count": 9,
   "id": "ddd3b6a6",
   "metadata": {},
   "outputs": [
    {
     "data": {
      "application/vnd.jupyter.widget-view+json": {
       "model_id": "",
       "version_major": 2,
       "version_minor": 0
      },
      "text/plain": [
       "FloatProgress(value=0.0, bar_style='info', description='Progress:', layout=Layout(height='25px', width='50%'),…"
      ]
     },
     "metadata": {},
     "output_type": "display_data"
    },
    {
     "name": "stdout",
     "output_type": "stream",
     "text": [
      "root\n",
      "|-- overall: double\n",
      "|-- vote: string\n",
      "|-- verified: boolean\n",
      "|-- reviewTime: string\n",
      "|-- reviewerID: string\n",
      "|-- asin: string\n",
      "|-- reviewerName: string\n",
      "|-- reviewText: string\n",
      "|-- summary: string\n",
      "|-- unixReviewTime: int\n",
      "|-- style: struct\n",
      "|    |-- Format:: string\n",
      "|-- image: array\n",
      "|    |-- element: string"
     ]
    }
   ],
   "source": [
    "mags_df.printSchema()"
   ]
  },
  {
   "cell_type": "code",
   "execution_count": 10,
   "id": "f5ffca08",
   "metadata": {},
   "outputs": [
    {
     "data": {
      "application/vnd.jupyter.widget-view+json": {
       "model_id": "",
       "version_major": 2,
       "version_minor": 0
      },
      "text/plain": [
       "FloatProgress(value=0.0, bar_style='info', description='Progress:', layout=Layout(height='25px', width='50%'),…"
      ]
     },
     "metadata": {},
     "output_type": "display_data"
    },
    {
     "name": "stdout",
     "output_type": "stream",
     "text": [
      "dict_keys(['root', 'root_image'])"
     ]
    }
   ],
   "source": [
    "dfc = mags_df.relationalize(\"root\", \"s3://afsana/json/\")\n",
    "dfc.keys()"
   ]
  },
  {
   "cell_type": "code",
   "execution_count": 19,
   "id": "312a5c70",
   "metadata": {},
   "outputs": [
    {
     "data": {
      "application/vnd.jupyter.widget-view+json": {
       "model_id": "",
       "version_major": 2,
       "version_minor": 0
      },
      "text/plain": [
       "FloatProgress(value=0.0, bar_style='info', description='Progress:', layout=Layout(height='25px', width='50%'),…"
      ]
     },
     "metadata": {},
     "output_type": "display_data"
    },
    {
     "name": "stdout",
     "output_type": "stream",
     "text": [
      "root\n",
      "|-- overall: double\n",
      "|-- vote: string\n",
      "|-- verified: boolean\n",
      "|-- reviewTime: string\n",
      "|-- reviewerID: string\n",
      "|-- asin: string\n",
      "|-- reviewerName: string\n",
      "|-- reviewText: string\n",
      "|-- summary: string\n",
      "|-- unixReviewTime: int\n",
      "|-- style.Format:: string\n",
      "|-- image: long"
     ]
    }
   ],
   "source": [
    "mags_flatdf = dfc.select('root')\n",
    "mags_flatdf.printSchema()"
   ]
  },
  {
   "cell_type": "code",
   "execution_count": 20,
   "id": "cf1c23a6",
   "metadata": {},
   "outputs": [
    {
     "data": {
      "application/vnd.jupyter.widget-view+json": {
       "model_id": "",
       "version_major": 2,
       "version_minor": 0
      },
      "text/plain": [
       "FloatProgress(value=0.0, bar_style='info', description='Progress:', layout=Layout(height='25px', width='50%'),…"
      ]
     },
     "metadata": {},
     "output_type": "display_data"
    },
    {
     "name": "stdout",
     "output_type": "stream",
     "text": [
      "+-------+----+--------+-----------+--------------+----------+------------------+--------------------+--------------------+--------------+---------------+-----+\n",
      "|overall|vote|verified| reviewTime|    reviewerID|      asin|      reviewerName|          reviewText|             summary|unixReviewTime|  style.Format:|image|\n",
      "+-------+----+--------+-----------+--------------+----------+------------------+--------------------+--------------------+--------------+---------------+-----+\n",
      "|    5.0|   9|   false| 11 8, 2001| AH2IFH762VY5U|B00005N7P0|      ted sedlmayr|for computer enth...|AVID READER SINCE...|    1005177600|           null| null|\n",
      "|    5.0|   9|   false|10 31, 2001| AOSFI0JEYU4XM|B00005N7P0|   Amazon Customer|Thank god this is...|  The straight scoop|    1004486400|           null| null|\n",
      "|    3.0|  14|   false|03 24, 2007|A3JPFWKS83R49V|B00005N7OJ|       Bryan Carey|Antiques Magazine...|Antiques Magazine...|    1174694400| Print Magazine| null|\n",
      "|    5.0|  13|   false|11 10, 2006|A19FKU6JZQ2ECJ|B00005N7OJ|Patricia L. Porada|This beautiful ma...|THE  DISCERNING R...|    1163116800| Print Magazine| null|\n",
      "|    5.0|null|    true|07 14, 2014|A25MDGOMZ2GALN|B00005N7P0|             Alvey|A great read ever...|          Five Stars|    1405296000|           null| null|\n",
      "|    3.0|null|    true|06 24, 2014| A3XT9XXWXFMJ1|B00005N7P0|      Jeff A Milne|This magazine was...|Great While it la...|    1403568000|           null| null|\n",
      "|    5.0|null|    true| 06 1, 2014|A3ERU005ES1IHT|B00005N7P0|     P. R THOMPSON|I've read Maximum...|For Both the Newb...|    1401580800|           null| null|\n",
      "|    5.0|null|    true|05 15, 2014|  AC2278WPK3EU|B00005N7P0|    Earle Williams|We ordered this m...|          Great Gift|    1400112000|           null| null|\n",
      "|    4.0|null|    true|03 28, 2014|A3QRR8PSCBI07C|B00005N7P0|               JJM|I have subscribed...|Decent magazine a...|    1395964800|           null| null|\n",
      "|    4.0|null|    true|02 26, 2014| A5QQOOZJOVPSF|B00005N7P0| John L. Mehlmauer|I'm old, and so i...|   Cheapskates guide|    1393372800|           null| null|\n",
      "|    5.0|null|    true| 01 5, 2014|A1Z16630QMH8Q6|B00005N7P0|  Vista Bill Raley|At one time, this...|    It grows on you!|    1388880000|           null| null|\n",
      "|    2.0|null|    true|12 11, 2013|A1LN6PL2AZGKNH|B00005N7P0|   Andrea Chambers|I didn't receive ...|          Maximum PC|    1386720000|           null| null|\n",
      "|    5.0|null|    true|10 30, 2013|A2FR95O3K6WZMU|B00005N7P0|                TG|It was inexpensiv...|Got the Renewal f...|    1383091200|           null| null|\n",
      "|    5.0|null|    true| 10 2, 2013| A99B5F6XYU3CZ|B00005N7P0|    Joseph P Brown|These periodicals...|      I like to read|    1380672000|           null| null|\n",
      "|    4.0|null|    true|07 28, 2013|A29248I4OWQW45|B00005N7P0|    CamX Hernandez|So helpful.  A gr...|       Love this mag|    1374969600|           null| null|\n",
      "|    5.0|null|    true|07 15, 2013|A26PEGXTHPZQEE|B00005N7P0|      David Kalish|Best magazine for...|               Great|    1373846400|           null| null|\n",
      "|    5.0|null|    true| 04 5, 2013|A3RSVR9ELA3U2E|B00005N7P0|               kay|My husband likes ...|            liked it|    1365120000|           null| null|\n",
      "|    5.0|null|    true|03 24, 2013|A2OVVHUNFT2TN7|B00005N7P0|                PH|I love this magaz...|      Great Magazine|    1364083200|           null| null|\n",
      "|    3.0|null|    true|03 18, 2013|A3JD68LUCW99NX|B00005N7P0|         M. Azuela|I am getting sick...|       Should be 1st|    1363564800|           null| null|\n",
      "|    5.0|null|    true| 03 7, 2013|A1ZK8IKYH42IML|B00005N7P0|              Andy|I can recommend M...|Once done... stil...|    1362614400|           null| null|\n",
      "+-------+----+--------+-----------+--------------+----------+------------------+--------------------+--------------------+--------------+---------------+-----+\n",
      "only showing top 20 rows"
     ]
    }
   ],
   "source": [
    "mags_flatdf.toDF().show()"
   ]
  },
  {
   "cell_type": "code",
   "execution_count": 21,
   "id": "9cb41eec",
   "metadata": {},
   "outputs": [
    {
     "data": {
      "application/vnd.jupyter.widget-view+json": {
       "model_id": "",
       "version_major": 2,
       "version_minor": 0
      },
      "text/plain": [
       "FloatProgress(value=0.0, bar_style='info', description='Progress:', layout=Layout(height='25px', width='50%'),…"
      ]
     },
     "metadata": {},
     "output_type": "display_data"
    },
    {
     "name": "stdout",
     "output_type": "stream",
     "text": [
      "root\n",
      "|-- id: long\n",
      "|-- index: int\n",
      "|-- image.val: string"
     ]
    }
   ],
   "source": [
    "mags_flatdf2 = dfc.select('root_image')\n",
    "mags_flatdf2.printSchema()"
   ]
  },
  {
   "cell_type": "code",
   "execution_count": 22,
   "id": "a9ab3bfa",
   "metadata": {},
   "outputs": [
    {
     "data": {
      "application/vnd.jupyter.widget-view+json": {
       "model_id": "",
       "version_major": 2,
       "version_minor": 0
      },
      "text/plain": [
       "FloatProgress(value=0.0, bar_style='info', description='Progress:', layout=Layout(height='25px', width='50%'),…"
      ]
     },
     "metadata": {},
     "output_type": "display_data"
    },
    {
     "name": "stdout",
     "output_type": "stream",
     "text": [
      "+---+-----+--------------------+\n",
      "| id|index|           image.val|\n",
      "+---+-----+--------------------+\n",
      "|  1|    0|https://images-na...|\n",
      "|  2|    0|https://images-na...|\n",
      "|  3|    0|https://images-na...|\n",
      "|  4|    0|https://images-na...|\n",
      "|  4|    1|https://images-na...|\n",
      "|  4|    2|https://images-na...|\n",
      "|  5|    0|https://images-na...|\n",
      "|  6|    0|https://images-na...|\n",
      "|  7|    0|https://images-na...|\n",
      "|  8|    0|https://images-na...|\n",
      "|  9|    0|https://images-na...|\n",
      "| 10|    0|https://images-na...|\n",
      "| 10|    1|https://images-na...|\n",
      "| 11|    0|https://images-na...|\n",
      "| 12|    0|https://images-na...|\n",
      "| 13|    0|https://images-na...|\n",
      "| 14|    0|https://images-na...|\n",
      "| 15|    0|https://images-na...|\n",
      "| 16|    0|https://images-na...|\n",
      "| 16|    1|https://images-na...|\n",
      "+---+-----+--------------------+\n",
      "only showing top 20 rows"
     ]
    }
   ],
   "source": [
    "mags_flatdf2.toDF().show()"
   ]
  },
  {
   "cell_type": "code",
   "execution_count": 23,
   "id": "f81c85e9",
   "metadata": {},
   "outputs": [
    {
     "data": {
      "application/vnd.jupyter.widget-view+json": {
       "model_id": "",
       "version_major": 2,
       "version_minor": 0
      },
      "text/plain": [
       "FloatProgress(value=0.0, bar_style='info', description='Progress:', layout=Layout(height='25px', width='50%'),…"
      ]
     },
     "metadata": {},
     "output_type": "display_data"
    }
   ],
   "source": [
    "glue_relationalize_output_s3_path = \"s3://afsana/json_flat/\""
   ]
  },
  {
   "cell_type": "code",
   "execution_count": 26,
   "id": "7b76ad6b",
   "metadata": {},
   "outputs": [
    {
     "data": {
      "application/vnd.jupyter.widget-view+json": {
       "model_id": "",
       "version_major": 2,
       "version_minor": 0
      },
      "text/plain": [
       "FloatProgress(value=0.0, bar_style='info', description='Progress:', layout=Layout(height='25px', width='50%'),…"
      ]
     },
     "metadata": {},
     "output_type": "display_data"
    }
   ],
   "source": [
    "magsdataoutput = glueContext.write_dynamic_frame.from_options(frame = mags_flatdf, connection_type = \"s3\", connection_options = {\"path\": glue_relationalize_output_s3_path}, format = \"orc\", transformation_ctx = \"magsdataoutput\")"
   ]
  },
  {
   "cell_type": "code",
   "execution_count": null,
   "id": "60b3e651",
   "metadata": {},
   "outputs": [],
   "source": []
  }
 ],
 "metadata": {
  "kernelspec": {
   "display_name": "Sparkmagic (PySpark)",
   "language": "python",
   "name": "pysparkkernel"
  },
  "language_info": {
   "codemirror_mode": {
    "name": "python",
    "version": 3
   },
   "file_extension": ".py",
   "mimetype": "text/x-python",
   "name": "pyspark",
   "pygments_lexer": "python3"
  }
 },
 "nbformat": 4,
 "nbformat_minor": 5
}
